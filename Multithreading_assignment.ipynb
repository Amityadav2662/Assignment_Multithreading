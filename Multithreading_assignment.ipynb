{
 "cells": [
  {
   "cell_type": "code",
   "execution_count": null,
   "id": "4f501fac-50c3-4004-b23a-eb5c7dc0be57",
   "metadata": {},
   "outputs": [],
   "source": [
    "# Q1.What is multithreading in python? why is it used? Name the module used to handle threads in python.\n",
    "Ans.\n",
    "Multithreading in Python refers to the concurrent execution of multiple threads within a single program.\n",
    "\n",
    "Multithreading is used to achieve parallelism or concurrent execution of tasks.Python's multithreading allows\n",
    "for concurrent execution of multiple threads within a single process.\n",
    "\n",
    "The module used to handle threads in python is threading."
   ]
  },
  {
   "cell_type": "code",
   "execution_count": null,
   "id": "4ad112a5-bd8b-450c-a759-8b0a0b3ccadd",
   "metadata": {},
   "outputs": [],
   "source": [
    "# Q2. Why threading module used? Write the use of the following functions.\n",
    "Ans.\n",
    "The threading module in Python is used to handle threads and provide a higher-level interface for working with \n",
    "them. It offers various functions and classes to create, manage, and control threads in a Python program.\n",
    "\n",
    "1. active_count():\n",
    "The active_count() function is used to determine the number of active Thread objects currently running in the program.\n",
    "It returns the count of active threads, including the main thread.\n",
    "\n",
    "2. current_thread():\n",
    "The current_thread() function is used to obtain a reference to the current Thread object.\n",
    "It returns the Thread object representing the thread from which the function is called.\n",
    "\n",
    "3. enumerate():\n",
    "The enumerate() function is used to obtain a list of all active Thread objects currently running in the program.\n",
    "It returns a list containing all the Thread objects, including the current thread and any other active threads."
   ]
  },
  {
   "cell_type": "code",
   "execution_count": null,
   "id": "01ffc853-a651-4736-a928-ad7ccf970507",
   "metadata": {},
   "outputs": [],
   "source": [
    "# 3. Explain the following functions\n",
    "a. run: The run() method is a method that can be overridden in a subclass of the Thread class to define the behavior of the thread.\n",
    "It contains the code that will be executed when the thread starts.\n",
    "\n",
    "b. start : The start() method is used to start the execution of a thread. It creates a new thread of execution and calls the run() \n",
    "method internally. This method should be called to begin the execution of the thread. \n",
    "\n",
    "c. join : The join() method is used to wait for a thread to complete its execution. When you call join() on a thread, the calling \n",
    "thread will be blocked until the thread being joined completes its execution. \n",
    "    \n",
    "d.isAlive : The isAlive() method is used to check if a thread is currently running or alive. It returns a boolean value, \n",
    "True if the thread is still running, and False otherwise."
   ]
  },
  {
   "cell_type": "code",
   "execution_count": 5,
   "id": "06cc752a-abb6-4412-817c-a86104855487",
   "metadata": {},
   "outputs": [
    {
     "name": "stdout",
     "output_type": "stream",
     "text": [
      "1\n",
      "4\n",
      "9\n",
      "16\n",
      "25\n",
      "36\n",
      "49\n",
      "64\n",
      "81\n",
      "100\n",
      "1\n",
      "8\n",
      "27\n",
      "64\n",
      "125\n",
      "216\n",
      "343\n",
      "512\n",
      "729\n",
      "1000\n"
     ]
    }
   ],
   "source": [
    "# Q4. Write a python program to create two threads. Thread one must print the list of squares and thread\n",
    "# two must print the list of cubes\n",
    "import threading\n",
    "\n",
    "def print_squares():\n",
    "    squares = [x**2 for x in range(1, 11)]\n",
    "    for square in squares:\n",
    "        print(square)\n",
    "\n",
    "def print_cubes():\n",
    "    cubes = [x**3 for x in range(1, 11)]\n",
    "    for cube in cubes:\n",
    "        print(cube)\n",
    "\n",
    "thread1 = threading.Thread(target=print_squares)\n",
    "thread2 = threading.Thread(target=print_cubes)\n",
    "\n",
    "thread1.start()\n",
    "thread2.start()"
   ]
  },
  {
   "cell_type": "code",
   "execution_count": null,
   "id": "16fe3d05-4fc1-414e-8d95-a904d4e907c7",
   "metadata": {},
   "outputs": [],
   "source": [
    "# Q5. State advantages and disadvantages of multithreading\n",
    "Ans.\n",
    "Advantages of Multithreading:  \n",
    "a.Increased efficiency: Multithreading allows for concurrent execution of tasks, utilizing available system resources more \n",
    "efficiently.\n",
    "b.Responsiveness: Multithreading enables concurrent execution of tasks, allowing the program to remain responsive even when\n",
    "certain tasks are blocking or waiting for input/output operations.\n",
    "c.Resource sharing: Threads within a process can share the same memory space, allowing them to communicate and share data more\n",
    "easily. \n",
    "\n",
    "Disadvantages of Multhithreading:\n",
    "a.Complexity: Multithreaded programming introduces complexity due to shared resources and potential synchronization issues.\n",
    "b.Increased chances of errors: Multithreaded programs are more susceptible to issues like race conditions, deadlocks, and livelocks.\n",
    "c.Difficulty in debugging: Issues like thread interactions, timing-related bugs, and non-deterministic behavior can make it harder\n",
    "to pinpoint and reproduce errors."
   ]
  },
  {
   "cell_type": "code",
   "execution_count": null,
   "id": "299407d3-ee2b-44ae-9190-5146809df574",
   "metadata": {},
   "outputs": [],
   "source": [
    "# Q6.Explain deadlocks and race conditions.\n",
    "Ans.\n",
    "a.Deadlocks:\n",
    "A deadlock is a situation where two or more threads or processes are unable to proceed because each is waiting for a resource \n",
    "that is held by another, resulting in a circular dependency. In other words, each thread/process is blocking the resource it \n",
    "holds while waiting for another resource to be released, creating a deadlock.\n",
    "\n",
    "b.Race Conditions:\n",
    "A race condition occurs when multiple threads or processes access shared data simultaneously, and the final outcome of the program\n",
    "depends on the order and timing of their execution. It arises when the outcome of the program is dependent on the interleaving of\n",
    "operations by different threads/processes."
   ]
  }
 ],
 "metadata": {
  "kernelspec": {
   "display_name": "Python 3 (ipykernel)",
   "language": "python",
   "name": "python3"
  },
  "language_info": {
   "codemirror_mode": {
    "name": "ipython",
    "version": 3
   },
   "file_extension": ".py",
   "mimetype": "text/x-python",
   "name": "python",
   "nbconvert_exporter": "python",
   "pygments_lexer": "ipython3",
   "version": "3.10.8"
  }
 },
 "nbformat": 4,
 "nbformat_minor": 5
}
